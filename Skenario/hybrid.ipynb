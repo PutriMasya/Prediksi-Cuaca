{
  "nbformat": 4,
  "nbformat_minor": 0,
  "metadata": {
    "colab": {
      "provenance": []
    },
    "kernelspec": {
      "name": "python3",
      "display_name": "Python 3"
    },
    "language_info": {
      "name": "python"
    }
  },
  "cells": [
    {
      "cell_type": "code",
      "execution_count": null,
      "metadata": {
        "id": "t8VZydSdgiBF"
      },
      "outputs": [],
      "source": [
        "import pandas as pd\n",
        "import numpy as np"
      ]
    },
    {
      "cell_type": "code",
      "source": [
        "data = pd.read_csv(\"DataCuaca.csv\")"
      ],
      "metadata": {
        "id": "Z0AzY7NKg25Y"
      },
      "execution_count": null,
      "outputs": []
    },
    {
      "cell_type": "code",
      "source": [
        "data.info()"
      ],
      "metadata": {
        "id": "OCaU6fVug46j",
        "colab": {
          "base_uri": "https://localhost:8080/"
        },
        "outputId": "3e58f093-0bec-46a4-b408-7b612872a046"
      },
      "execution_count": null,
      "outputs": [
        {
          "output_type": "stream",
          "name": "stdout",
          "text": [
            "<class 'pandas.core.frame.DataFrame'>\n",
            "RangeIndex: 4345 entries, 0 to 4344\n",
            "Data columns (total 12 columns):\n",
            " #   Column          Non-Null Count  Dtype  \n",
            "---  ------          --------------  -----  \n",
            " 0   datetime        4345 non-null   object \n",
            " 1   temp            4345 non-null   float64\n",
            " 2   humidity        4345 non-null   float64\n",
            " 3   precip          4345 non-null   float64\n",
            " 4   windgust        4345 non-null   float64\n",
            " 5   windspeed       4345 non-null   float64\n",
            " 6   cloudcover      4345 non-null   float64\n",
            " 7   visibility      4325 non-null   float64\n",
            " 8   uvindex         4345 non-null   float64\n",
            " 9   solarradiation  4345 non-null   float64\n",
            " 10  pressure        4345 non-null   float64\n",
            " 11  weather         4345 non-null   object \n",
            "dtypes: float64(10), object(2)\n",
            "memory usage: 407.5+ KB\n"
          ]
        }
      ]
    },
    {
      "cell_type": "code",
      "source": [
        "data.head()"
      ],
      "metadata": {
        "id": "ulU1CeEvg60H",
        "colab": {
          "base_uri": "https://localhost:8080/",
          "height": 226
        },
        "outputId": "87d6c6cd-2797-426a-e83c-9ec8b0d0dc37"
      },
      "execution_count": null,
      "outputs": [
        {
          "output_type": "execute_result",
          "data": {
            "text/plain": [
              "   datetime  temp  humidity  precip  windgust  windspeed  cloudcover  \\\n",
              "0  00:00:00  24.9     95.73     0.0      14.8        0.0        44.0   \n",
              "1  01:00:00  24.8     95.42     0.0      15.8        3.6        44.0   \n",
              "2  02:00:00  24.8     95.42     0.0      16.6        0.8        44.0   \n",
              "3  03:00:00  25.0     94.19     0.0      16.9        3.6        27.7   \n",
              "4  04:00:00  24.7     95.73     0.0      18.7        3.6        44.0   \n",
              "\n",
              "   visibility  uvindex  solarradiation  pressure weather  \n",
              "0        10.0      0.0             0.0    1009.3   cerah  \n",
              "1        10.0      0.0             0.0    1008.4   cerah  \n",
              "2        10.0      0.0             0.0    1008.2   cerah  \n",
              "3        10.0      0.0             0.0    1007.0   cerah  \n",
              "4        10.0      0.0             0.0    1007.3   cerah  "
            ],
            "text/html": [
              "\n",
              "  <div id=\"df-aab5cda1-cfff-4d26-973b-09646546a051\" class=\"colab-df-container\">\n",
              "    <div>\n",
              "<style scoped>\n",
              "    .dataframe tbody tr th:only-of-type {\n",
              "        vertical-align: middle;\n",
              "    }\n",
              "\n",
              "    .dataframe tbody tr th {\n",
              "        vertical-align: top;\n",
              "    }\n",
              "\n",
              "    .dataframe thead th {\n",
              "        text-align: right;\n",
              "    }\n",
              "</style>\n",
              "<table border=\"1\" class=\"dataframe\">\n",
              "  <thead>\n",
              "    <tr style=\"text-align: right;\">\n",
              "      <th></th>\n",
              "      <th>datetime</th>\n",
              "      <th>temp</th>\n",
              "      <th>humidity</th>\n",
              "      <th>precip</th>\n",
              "      <th>windgust</th>\n",
              "      <th>windspeed</th>\n",
              "      <th>cloudcover</th>\n",
              "      <th>visibility</th>\n",
              "      <th>uvindex</th>\n",
              "      <th>solarradiation</th>\n",
              "      <th>pressure</th>\n",
              "      <th>weather</th>\n",
              "    </tr>\n",
              "  </thead>\n",
              "  <tbody>\n",
              "    <tr>\n",
              "      <th>0</th>\n",
              "      <td>00:00:00</td>\n",
              "      <td>24.9</td>\n",
              "      <td>95.73</td>\n",
              "      <td>0.0</td>\n",
              "      <td>14.8</td>\n",
              "      <td>0.0</td>\n",
              "      <td>44.0</td>\n",
              "      <td>10.0</td>\n",
              "      <td>0.0</td>\n",
              "      <td>0.0</td>\n",
              "      <td>1009.3</td>\n",
              "      <td>cerah</td>\n",
              "    </tr>\n",
              "    <tr>\n",
              "      <th>1</th>\n",
              "      <td>01:00:00</td>\n",
              "      <td>24.8</td>\n",
              "      <td>95.42</td>\n",
              "      <td>0.0</td>\n",
              "      <td>15.8</td>\n",
              "      <td>3.6</td>\n",
              "      <td>44.0</td>\n",
              "      <td>10.0</td>\n",
              "      <td>0.0</td>\n",
              "      <td>0.0</td>\n",
              "      <td>1008.4</td>\n",
              "      <td>cerah</td>\n",
              "    </tr>\n",
              "    <tr>\n",
              "      <th>2</th>\n",
              "      <td>02:00:00</td>\n",
              "      <td>24.8</td>\n",
              "      <td>95.42</td>\n",
              "      <td>0.0</td>\n",
              "      <td>16.6</td>\n",
              "      <td>0.8</td>\n",
              "      <td>44.0</td>\n",
              "      <td>10.0</td>\n",
              "      <td>0.0</td>\n",
              "      <td>0.0</td>\n",
              "      <td>1008.2</td>\n",
              "      <td>cerah</td>\n",
              "    </tr>\n",
              "    <tr>\n",
              "      <th>3</th>\n",
              "      <td>03:00:00</td>\n",
              "      <td>25.0</td>\n",
              "      <td>94.19</td>\n",
              "      <td>0.0</td>\n",
              "      <td>16.9</td>\n",
              "      <td>3.6</td>\n",
              "      <td>27.7</td>\n",
              "      <td>10.0</td>\n",
              "      <td>0.0</td>\n",
              "      <td>0.0</td>\n",
              "      <td>1007.0</td>\n",
              "      <td>cerah</td>\n",
              "    </tr>\n",
              "    <tr>\n",
              "      <th>4</th>\n",
              "      <td>04:00:00</td>\n",
              "      <td>24.7</td>\n",
              "      <td>95.73</td>\n",
              "      <td>0.0</td>\n",
              "      <td>18.7</td>\n",
              "      <td>3.6</td>\n",
              "      <td>44.0</td>\n",
              "      <td>10.0</td>\n",
              "      <td>0.0</td>\n",
              "      <td>0.0</td>\n",
              "      <td>1007.3</td>\n",
              "      <td>cerah</td>\n",
              "    </tr>\n",
              "  </tbody>\n",
              "</table>\n",
              "</div>\n",
              "    <div class=\"colab-df-buttons\">\n",
              "\n",
              "  <div class=\"colab-df-container\">\n",
              "    <button class=\"colab-df-convert\" onclick=\"convertToInteractive('df-aab5cda1-cfff-4d26-973b-09646546a051')\"\n",
              "            title=\"Convert this dataframe to an interactive table.\"\n",
              "            style=\"display:none;\">\n",
              "\n",
              "  <svg xmlns=\"http://www.w3.org/2000/svg\" height=\"24px\" viewBox=\"0 -960 960 960\">\n",
              "    <path d=\"M120-120v-720h720v720H120Zm60-500h600v-160H180v160Zm220 220h160v-160H400v160Zm0 220h160v-160H400v160ZM180-400h160v-160H180v160Zm440 0h160v-160H620v160ZM180-180h160v-160H180v160Zm440 0h160v-160H620v160Z\"/>\n",
              "  </svg>\n",
              "    </button>\n",
              "\n",
              "  <style>\n",
              "    .colab-df-container {\n",
              "      display:flex;\n",
              "      gap: 12px;\n",
              "    }\n",
              "\n",
              "    .colab-df-convert {\n",
              "      background-color: #E8F0FE;\n",
              "      border: none;\n",
              "      border-radius: 50%;\n",
              "      cursor: pointer;\n",
              "      display: none;\n",
              "      fill: #1967D2;\n",
              "      height: 32px;\n",
              "      padding: 0 0 0 0;\n",
              "      width: 32px;\n",
              "    }\n",
              "\n",
              "    .colab-df-convert:hover {\n",
              "      background-color: #E2EBFA;\n",
              "      box-shadow: 0px 1px 2px rgba(60, 64, 67, 0.3), 0px 1px 3px 1px rgba(60, 64, 67, 0.15);\n",
              "      fill: #174EA6;\n",
              "    }\n",
              "\n",
              "    .colab-df-buttons div {\n",
              "      margin-bottom: 4px;\n",
              "    }\n",
              "\n",
              "    [theme=dark] .colab-df-convert {\n",
              "      background-color: #3B4455;\n",
              "      fill: #D2E3FC;\n",
              "    }\n",
              "\n",
              "    [theme=dark] .colab-df-convert:hover {\n",
              "      background-color: #434B5C;\n",
              "      box-shadow: 0px 1px 3px 1px rgba(0, 0, 0, 0.15);\n",
              "      filter: drop-shadow(0px 1px 2px rgba(0, 0, 0, 0.3));\n",
              "      fill: #FFFFFF;\n",
              "    }\n",
              "  </style>\n",
              "\n",
              "    <script>\n",
              "      const buttonEl =\n",
              "        document.querySelector('#df-aab5cda1-cfff-4d26-973b-09646546a051 button.colab-df-convert');\n",
              "      buttonEl.style.display =\n",
              "        google.colab.kernel.accessAllowed ? 'block' : 'none';\n",
              "\n",
              "      async function convertToInteractive(key) {\n",
              "        const element = document.querySelector('#df-aab5cda1-cfff-4d26-973b-09646546a051');\n",
              "        const dataTable =\n",
              "          await google.colab.kernel.invokeFunction('convertToInteractive',\n",
              "                                                    [key], {});\n",
              "        if (!dataTable) return;\n",
              "\n",
              "        const docLinkHtml = 'Like what you see? Visit the ' +\n",
              "          '<a target=\"_blank\" href=https://colab.research.google.com/notebooks/data_table.ipynb>data table notebook</a>'\n",
              "          + ' to learn more about interactive tables.';\n",
              "        element.innerHTML = '';\n",
              "        dataTable['output_type'] = 'display_data';\n",
              "        await google.colab.output.renderOutput(dataTable, element);\n",
              "        const docLink = document.createElement('div');\n",
              "        docLink.innerHTML = docLinkHtml;\n",
              "        element.appendChild(docLink);\n",
              "      }\n",
              "    </script>\n",
              "  </div>\n",
              "\n",
              "\n",
              "    <div id=\"df-844916ab-62d3-40b7-94bd-25770cfe0af9\">\n",
              "      <button class=\"colab-df-quickchart\" onclick=\"quickchart('df-844916ab-62d3-40b7-94bd-25770cfe0af9')\"\n",
              "                title=\"Suggest charts\"\n",
              "                style=\"display:none;\">\n",
              "\n",
              "<svg xmlns=\"http://www.w3.org/2000/svg\" height=\"24px\"viewBox=\"0 0 24 24\"\n",
              "     width=\"24px\">\n",
              "    <g>\n",
              "        <path d=\"M19 3H5c-1.1 0-2 .9-2 2v14c0 1.1.9 2 2 2h14c1.1 0 2-.9 2-2V5c0-1.1-.9-2-2-2zM9 17H7v-7h2v7zm4 0h-2V7h2v10zm4 0h-2v-4h2v4z\"/>\n",
              "    </g>\n",
              "</svg>\n",
              "      </button>\n",
              "\n",
              "<style>\n",
              "  .colab-df-quickchart {\n",
              "      --bg-color: #E8F0FE;\n",
              "      --fill-color: #1967D2;\n",
              "      --hover-bg-color: #E2EBFA;\n",
              "      --hover-fill-color: #174EA6;\n",
              "      --disabled-fill-color: #AAA;\n",
              "      --disabled-bg-color: #DDD;\n",
              "  }\n",
              "\n",
              "  [theme=dark] .colab-df-quickchart {\n",
              "      --bg-color: #3B4455;\n",
              "      --fill-color: #D2E3FC;\n",
              "      --hover-bg-color: #434B5C;\n",
              "      --hover-fill-color: #FFFFFF;\n",
              "      --disabled-bg-color: #3B4455;\n",
              "      --disabled-fill-color: #666;\n",
              "  }\n",
              "\n",
              "  .colab-df-quickchart {\n",
              "    background-color: var(--bg-color);\n",
              "    border: none;\n",
              "    border-radius: 50%;\n",
              "    cursor: pointer;\n",
              "    display: none;\n",
              "    fill: var(--fill-color);\n",
              "    height: 32px;\n",
              "    padding: 0;\n",
              "    width: 32px;\n",
              "  }\n",
              "\n",
              "  .colab-df-quickchart:hover {\n",
              "    background-color: var(--hover-bg-color);\n",
              "    box-shadow: 0 1px 2px rgba(60, 64, 67, 0.3), 0 1px 3px 1px rgba(60, 64, 67, 0.15);\n",
              "    fill: var(--button-hover-fill-color);\n",
              "  }\n",
              "\n",
              "  .colab-df-quickchart-complete:disabled,\n",
              "  .colab-df-quickchart-complete:disabled:hover {\n",
              "    background-color: var(--disabled-bg-color);\n",
              "    fill: var(--disabled-fill-color);\n",
              "    box-shadow: none;\n",
              "  }\n",
              "\n",
              "  .colab-df-spinner {\n",
              "    border: 2px solid var(--fill-color);\n",
              "    border-color: transparent;\n",
              "    border-bottom-color: var(--fill-color);\n",
              "    animation:\n",
              "      spin 1s steps(1) infinite;\n",
              "  }\n",
              "\n",
              "  @keyframes spin {\n",
              "    0% {\n",
              "      border-color: transparent;\n",
              "      border-bottom-color: var(--fill-color);\n",
              "      border-left-color: var(--fill-color);\n",
              "    }\n",
              "    20% {\n",
              "      border-color: transparent;\n",
              "      border-left-color: var(--fill-color);\n",
              "      border-top-color: var(--fill-color);\n",
              "    }\n",
              "    30% {\n",
              "      border-color: transparent;\n",
              "      border-left-color: var(--fill-color);\n",
              "      border-top-color: var(--fill-color);\n",
              "      border-right-color: var(--fill-color);\n",
              "    }\n",
              "    40% {\n",
              "      border-color: transparent;\n",
              "      border-right-color: var(--fill-color);\n",
              "      border-top-color: var(--fill-color);\n",
              "    }\n",
              "    60% {\n",
              "      border-color: transparent;\n",
              "      border-right-color: var(--fill-color);\n",
              "    }\n",
              "    80% {\n",
              "      border-color: transparent;\n",
              "      border-right-color: var(--fill-color);\n",
              "      border-bottom-color: var(--fill-color);\n",
              "    }\n",
              "    90% {\n",
              "      border-color: transparent;\n",
              "      border-bottom-color: var(--fill-color);\n",
              "    }\n",
              "  }\n",
              "</style>\n",
              "\n",
              "      <script>\n",
              "        async function quickchart(key) {\n",
              "          const quickchartButtonEl =\n",
              "            document.querySelector('#' + key + ' button');\n",
              "          quickchartButtonEl.disabled = true;  // To prevent multiple clicks.\n",
              "          quickchartButtonEl.classList.add('colab-df-spinner');\n",
              "          try {\n",
              "            const charts = await google.colab.kernel.invokeFunction(\n",
              "                'suggestCharts', [key], {});\n",
              "          } catch (error) {\n",
              "            console.error('Error during call to suggestCharts:', error);\n",
              "          }\n",
              "          quickchartButtonEl.classList.remove('colab-df-spinner');\n",
              "          quickchartButtonEl.classList.add('colab-df-quickchart-complete');\n",
              "        }\n",
              "        (() => {\n",
              "          let quickchartButtonEl =\n",
              "            document.querySelector('#df-844916ab-62d3-40b7-94bd-25770cfe0af9 button');\n",
              "          quickchartButtonEl.style.display =\n",
              "            google.colab.kernel.accessAllowed ? 'block' : 'none';\n",
              "        })();\n",
              "      </script>\n",
              "    </div>\n",
              "\n",
              "    </div>\n",
              "  </div>\n"
            ],
            "application/vnd.google.colaboratory.intrinsic+json": {
              "type": "dataframe",
              "variable_name": "data",
              "summary": "{\n  \"name\": \"data\",\n  \"rows\": 4345,\n  \"fields\": [\n    {\n      \"column\": \"datetime\",\n      \"properties\": {\n        \"dtype\": \"object\",\n        \"num_unique_values\": 24,\n        \"samples\": [\n          \"08:00:00\",\n          \"16:00:00\",\n          \"00:00:00\"\n        ],\n        \"semantic_type\": \"\",\n        \"description\": \"\"\n      }\n    },\n    {\n      \"column\": \"temp\",\n      \"properties\": {\n        \"dtype\": \"number\",\n        \"std\": 2.5104450158987666,\n        \"min\": 22.8,\n        \"max\": 34.1,\n        \"num_unique_values\": 113,\n        \"samples\": [\n          31.5,\n          24.6,\n          31.9\n        ],\n        \"semantic_type\": \"\",\n        \"description\": \"\"\n      }\n    },\n    {\n      \"column\": \"humidity\",\n      \"properties\": {\n        \"dtype\": \"number\",\n        \"std\": 9.83475439383335,\n        \"min\": 46.66,\n        \"max\": 100.0,\n        \"num_unique_values\": 1680,\n        \"samples\": [\n          94.42,\n          82.6,\n          72.64\n        ],\n        \"semantic_type\": \"\",\n        \"description\": \"\"\n      }\n    },\n    {\n      \"column\": \"precip\",\n      \"properties\": {\n        \"dtype\": \"number\",\n        \"std\": 5.3481477643775905,\n        \"min\": 0.0,\n        \"max\": 149.0,\n        \"num_unique_values\": 60,\n        \"samples\": [\n          0.0,\n          1.0,\n          62.0\n        ],\n        \"semantic_type\": \"\",\n        \"description\": \"\"\n      }\n    },\n    {\n      \"column\": \"windgust\",\n      \"properties\": {\n        \"dtype\": \"number\",\n        \"std\": 8.981125719668064,\n        \"min\": 5.0,\n        \"max\": 64.8,\n        \"num_unique_values\": 141,\n        \"samples\": [\n          31.0,\n          46.1,\n          28.1\n        ],\n        \"semantic_type\": \"\",\n        \"description\": \"\"\n      }\n    },\n    {\n      \"column\": \"windspeed\",\n      \"properties\": {\n        \"dtype\": \"number\",\n        \"std\": 3.5985739004245128,\n        \"min\": 0.0,\n        \"max\": 30.1,\n        \"num_unique_values\": 127,\n        \"samples\": [\n          12.0,\n          4.9,\n          19.3\n        ],\n        \"semantic_type\": \"\",\n        \"description\": \"\"\n      }\n    },\n    {\n      \"column\": \"cloudcover\",\n      \"properties\": {\n        \"dtype\": \"number\",\n        \"std\": 13.156658941847546,\n        \"min\": 15.2,\n        \"max\": 100.0,\n        \"num_unique_values\": 32,\n        \"samples\": [\n          97.2,\n          77.5,\n          94.8\n        ],\n        \"semantic_type\": \"\",\n        \"description\": \"\"\n      }\n    },\n    {\n      \"column\": \"visibility\",\n      \"properties\": {\n        \"dtype\": \"number\",\n        \"std\": 1.5891176732681946,\n        \"min\": 1.0,\n        \"max\": 10.0,\n        \"num_unique_values\": 36,\n        \"samples\": [\n          7.1,\n          5.7,\n          6.9\n        ],\n        \"semantic_type\": \"\",\n        \"description\": \"\"\n      }\n    },\n    {\n      \"column\": \"uvindex\",\n      \"properties\": {\n        \"dtype\": \"number\",\n        \"std\": 2.839614695359903,\n        \"min\": 0.0,\n        \"max\": 10.0,\n        \"num_unique_values\": 11,\n        \"samples\": [\n          5.0,\n          0.0,\n          9.0\n        ],\n        \"semantic_type\": \"\",\n        \"description\": \"\"\n      }\n    },\n    {\n      \"column\": \"solarradiation\",\n      \"properties\": {\n        \"dtype\": \"number\",\n        \"std\": 282.4239117109588,\n        \"min\": 0.0,\n        \"max\": 1017.2,\n        \"num_unique_values\": 1968,\n        \"samples\": [\n          209.4,\n          329.2,\n          438.8\n        ],\n        \"semantic_type\": \"\",\n        \"description\": \"\"\n      }\n    },\n    {\n      \"column\": \"pressure\",\n      \"properties\": {\n        \"dtype\": \"number\",\n        \"std\": 1.8060348125949885,\n        \"min\": 1002.4,\n        \"max\": 1013.6,\n        \"num_unique_values\": 99,\n        \"samples\": [\n          1004.3,\n          1010.9,\n          1013.4\n        ],\n        \"semantic_type\": \"\",\n        \"description\": \"\"\n      }\n    },\n    {\n      \"column\": \"weather\",\n      \"properties\": {\n        \"dtype\": \"category\",\n        \"num_unique_values\": 3,\n        \"samples\": [\n          \"cerah\",\n          \"berawan\",\n          \"hujan\"\n        ],\n        \"semantic_type\": \"\",\n        \"description\": \"\"\n      }\n    }\n  ]\n}"
            }
          },
          "metadata": {},
          "execution_count": 4
        }
      ]
    },
    {
      "cell_type": "code",
      "source": [
        "print(data['weather'].value_counts())"
      ],
      "metadata": {
        "id": "B2sPdVI5hIGT",
        "colab": {
          "base_uri": "https://localhost:8080/"
        },
        "outputId": "393984c0-4dca-497d-f516-90dfc66e6e04"
      },
      "execution_count": null,
      "outputs": [
        {
          "output_type": "stream",
          "name": "stdout",
          "text": [
            "weather\n",
            "berawan    3432\n",
            "cerah       590\n",
            "hujan       323\n",
            "Name: count, dtype: int64\n"
          ]
        }
      ]
    },
    {
      "cell_type": "code",
      "source": [
        "print(data.isnull().sum())"
      ],
      "metadata": {
        "id": "ySdDlkG-hJEd",
        "colab": {
          "base_uri": "https://localhost:8080/"
        },
        "outputId": "e9956eda-2479-495f-a2fc-c68d399b2e30"
      },
      "execution_count": null,
      "outputs": [
        {
          "output_type": "stream",
          "name": "stdout",
          "text": [
            "datetime           0\n",
            "temp               0\n",
            "humidity           0\n",
            "precip             0\n",
            "windgust           0\n",
            "windspeed          0\n",
            "cloudcover         0\n",
            "visibility        20\n",
            "uvindex            0\n",
            "solarradiation     0\n",
            "pressure           0\n",
            "weather            0\n",
            "dtype: int64\n"
          ]
        }
      ]
    },
    {
      "cell_type": "code",
      "source": [
        "data_bersih = data.dropna()"
      ],
      "metadata": {
        "id": "vOG6UkoYhLel"
      },
      "execution_count": null,
      "outputs": []
    },
    {
      "cell_type": "code",
      "source": [
        "print(data_bersih.isnull().sum())"
      ],
      "metadata": {
        "id": "MQQC_QkthOae",
        "colab": {
          "base_uri": "https://localhost:8080/"
        },
        "outputId": "cd43dd6e-faf6-4e31-8c2e-042a5f508c40"
      },
      "execution_count": null,
      "outputs": [
        {
          "output_type": "stream",
          "name": "stdout",
          "text": [
            "datetime          0\n",
            "temp              0\n",
            "humidity          0\n",
            "precip            0\n",
            "windgust          0\n",
            "windspeed         0\n",
            "cloudcover        0\n",
            "visibility        0\n",
            "uvindex           0\n",
            "solarradiation    0\n",
            "pressure          0\n",
            "weather           0\n",
            "dtype: int64\n"
          ]
        }
      ]
    },
    {
      "cell_type": "code",
      "source": [
        "print(f\"Jumlah data sebelum: {data.shape[0]}\")\n",
        "print(f\"Jumlah data sesudah: {data_bersih.shape[0]}\")"
      ],
      "metadata": {
        "id": "GkVKi5U6hSDY",
        "colab": {
          "base_uri": "https://localhost:8080/"
        },
        "outputId": "4ec1c515-1024-48bd-b96e-ad8eeb66f984"
      },
      "execution_count": null,
      "outputs": [
        {
          "output_type": "stream",
          "name": "stdout",
          "text": [
            "Jumlah data sebelum: 4345\n",
            "Jumlah data sesudah: 4325\n"
          ]
        }
      ]
    },
    {
      "cell_type": "code",
      "source": [
        "# Tampilkan jumlah masing-masing kelas cuaca\n",
        "print(data_bersih['weather'].value_counts())"
      ],
      "metadata": {
        "id": "kPd4CM3ijka4",
        "colab": {
          "base_uri": "https://localhost:8080/"
        },
        "outputId": "01deb183-0acb-4de9-eecd-267d7c06007c"
      },
      "execution_count": null,
      "outputs": [
        {
          "output_type": "stream",
          "name": "stdout",
          "text": [
            "weather\n",
            "berawan    3416\n",
            "cerah       587\n",
            "hujan       322\n",
            "Name: count, dtype: int64\n"
          ]
        }
      ]
    },
    {
      "cell_type": "code",
      "source": [
        "from scipy import stats\n",
        "data_numeric = data_bersih.select_dtypes(include=np.number)\n",
        "z_scores = np.abs(stats.zscore(data_numeric))\n",
        "threshold = 3\n",
        "outliers = (z_scores > threshold).any(axis=1)\n",
        "columns_to_plot = data_numeric.columns"
      ],
      "metadata": {
        "id": "QwEZ4Q9NjlaQ"
      },
      "execution_count": null,
      "outputs": []
    },
    {
      "cell_type": "code",
      "source": [
        "import seaborn as sns\n",
        "import matplotlib.pyplot as plt\n",
        "\n",
        "for col in columns_to_plot:\n",
        "    plt.figure(figsize=(6, 4))\n",
        "    sns.boxplot(y=data_numeric[col])\n",
        "    plt.title(f\"Outlier pada Fitur: {col}\")\n",
        "    plt.show()"
      ],
      "metadata": {
        "id": "UEBvkKHYjoMi",
        "colab": {
          "base_uri": "https://localhost:8080/",
          "height": 1000
        },
        "outputId": "c6f5fae0-b534-4fea-a755-1dc550561833"
      },
      "execution_count": null,
      "outputs": [
        {
          "output_type": "display_data",
          "data": {
            "text/plain": [
              "<Figure size 600x400 with 1 Axes>"
            ],
            "image/png": "[encoded data removed]"
          },
          "metadata": {}
        },
        {
          "output_type": "display_data",
          "data": {
            "text/plain": [
              "<Figure size 600x400 with 1 Axes>"
            ],
            "image/png": "[encoded data removed]"
          },
          "metadata": {}
        },
        {
          "output_type": "display_data",
          "data": {
            "text/plain": [
              "<Figure size 600x400 with 1 Axes>"
            ],
            "image/png": "[encoded data removed]"
          },
          "metadata": {}
        },
        {
          "output_type": "display_data",
          "data": {
            "text/plain": [
              "<Figure size 600x400 with 1 Axes>"
            ],
            "image/png": "[encoded data removed]"
          },
          "metadata": {}
        },
        {
          "output_type": "display_data",
          "data": {
            "text/plain": [
              "<Figure size 600x400 with 1 Axes>"
            ],
            "image/png": "[encoded data removed]"
          },
          "metadata": {}
        },
        {
          "output_type": "display_data",
          "data": {
            "text/plain": [
              "<Figure size 600x400 with 1 Axes>"
            ],
            "image/png": "[encoded data removed]"
          },
          "metadata": {}
        },
        {
          "output_type": "display_data",
          "data": {
            "text/plain": [
              "<Figure size 600x400 with 1 Axes>"
            ],
            "image/png": "[encoded data removed]"
          },
          "metadata": {}
        },
        {
          "output_type": "display_data",
          "data": {
            "text/plain": [
              "<Figure size 600x400 with 1 Axes>"
            ],
            "image/png": "[encoded data removed]"
          },
          "metadata": {}
        },
        {
          "output_type": "display_data",
          "data": {
            "text/plain": [
              "<Figure size 600x400 with 1 Axes>"
            ],
            "image/png": "[encoded data removed]"
          },
          "metadata": {}
        },
        {
          "output_type": "display_data",
          "data": {
            "text/plain": [
              "<Figure size 600x400 with 1 Axes>"
            ],
            "image/png": "[encoded data removed]"
          },
          "metadata": {}
        }
      ]
    },
    {
      "cell_type": "code",
      "source": [
        "df = data_bersih[(z_scores < threshold).all(axis=1)]\n",
        "df = df.reset_index(drop=True)"
      ],
      "metadata": {
        "id": "OlRB6kKTjqbR"
      },
      "execution_count": null,
      "outputs": []
    },
    {
      "cell_type": "code",
      "source": [
        "print(f\"Jumlah data sebelum: {data_bersih.shape[0]}\")\n",
        "print(f\"Jumlah data sesudah: {df.shape[0]}\")"
      ],
      "metadata": {
        "id": "IZg4TO27jtZj",
        "colab": {
          "base_uri": "https://localhost:8080/"
        },
        "outputId": "857510e0-b03f-458f-cf78-7d27e2a59cfe"
      },
      "execution_count": null,
      "outputs": [
        {
          "output_type": "stream",
          "name": "stdout",
          "text": [
            "Jumlah data sebelum: 4325\n",
            "Jumlah data sesudah: 4038\n"
          ]
        }
      ]
    },
    {
      "cell_type": "code",
      "source": [
        "print(df['weather'].value_counts())"
      ],
      "metadata": {
        "id": "zsgvbxxwjvx8",
        "colab": {
          "base_uri": "https://localhost:8080/"
        },
        "outputId": "c68ccb6e-cafb-47e3-cfc1-3be1a84f8854"
      },
      "execution_count": null,
      "outputs": [
        {
          "output_type": "stream",
          "name": "stdout",
          "text": [
            "weather\n",
            "berawan    3258\n",
            "cerah       524\n",
            "hujan       256\n",
            "Name: count, dtype: int64\n"
          ]
        }
      ]
    },
    {
      "cell_type": "code",
      "source": [
        "from sklearn.preprocessing import LabelEncoder\n",
        "le = LabelEncoder()\n",
        "df['weather'] = le.fit_transform(df['weather'])"
      ],
      "metadata": {
        "id": "1K16qWuYjzEa"
      },
      "execution_count": null,
      "outputs": []
    },
    {
      "cell_type": "code",
      "source": [
        "mapping = dict(zip(le.classes_, le.transform(le.classes_)))\n",
        "print(\"Mapping LabelEncoder:\", mapping)"
      ],
      "metadata": {
        "id": "XmjwwMbFj1iY",
        "colab": {
          "base_uri": "https://localhost:8080/"
        },
        "outputId": "cd9cbb37-61fd-409a-9485-c698657a602c"
      },
      "execution_count": null,
      "outputs": [
        {
          "output_type": "stream",
          "name": "stdout",
          "text": [
            "Mapping LabelEncoder: {'berawan': np.int64(0), 'cerah': np.int64(1), 'hujan': np.int64(2)}\n"
          ]
        }
      ]
    },
    {
      "cell_type": "code",
      "source": [
        "df.head()"
      ],
      "metadata": {
        "id": "cD55cW8zj4CM",
        "colab": {
          "base_uri": "https://localhost:8080/",
          "height": 226
        },
        "outputId": "efbd7f57-ed26-4b04-8acc-f89945ff9bfb"
      },
      "execution_count": null,
      "outputs": [
        {
          "output_type": "execute_result",
          "data": {
            "text/plain": [
              "   datetime  temp  humidity  precip  windgust  windspeed  cloudcover  \\\n",
              "0  00:00:00  24.9     95.73     0.0      14.8        0.0        44.0   \n",
              "1  01:00:00  24.8     95.42     0.0      15.8        3.6        44.0   \n",
              "2  02:00:00  24.8     95.42     0.0      16.6        0.8        44.0   \n",
              "3  04:00:00  24.7     95.73     0.0      18.7        3.6        44.0   \n",
              "4  05:00:00  24.6     95.10     0.0      20.9        3.6        44.0   \n",
              "\n",
              "   visibility  uvindex  solarradiation  pressure  weather  \n",
              "0        10.0      0.0             0.0    1009.3        1  \n",
              "1        10.0      0.0             0.0    1008.4        1  \n",
              "2        10.0      0.0             0.0    1008.2        1  \n",
              "3        10.0      0.0             0.0    1007.3        1  \n",
              "4        10.0      0.0             0.0    1007.7        1  "
            ],
            "text/html": [
              "\n",
              "  <div id=\"df-06b7cbe8-5fff-4512-a015-c503de1a5453\" class=\"colab-df-container\">\n",
              "    <div>\n",
              "<style scoped>\n",
              "    .dataframe tbody tr th:only-of-type {\n",
              "        vertical-align: middle;\n",
              "    }\n",
              "\n",
              "    .dataframe tbody tr th {\n",
              "        vertical-align: top;\n",
              "    }\n",
              "\n",
              "    .dataframe thead th {\n",
              "        text-align: right;\n",
              "    }\n",
              "</style>\n",
              "<table border=\"1\" class=\"dataframe\">\n",
              "  <thead>\n",
              "    <tr style=\"text-align: right;\">\n",
              "      <th></th>\n",
              "      <th>datetime</th>\n",
              "      <th>temp</th>\n",
              "      <th>humidity</th>\n",
              "      <th>precip</th>\n",
              "      <th>windgust</th>\n",
              "      <th>windspeed</th>\n",
              "      <th>cloudcover</th>\n",
              "      <th>visibility</th>\n",
              "      <th>uvindex</th>\n",
              "      <th>solarradiation</th>\n",
              "      <th>pressure</th>\n",
              "      <th>weather</th>\n",
              "    </tr>\n",
              "  </thead>\n",
              "  <tbody>\n",
              "    <tr>\n",
              "      <th>0</th>\n",
              "      <td>00:00:00</td>\n",
              "      <td>24.9</td>\n",
              "      <td>95.73</td>\n",
              "      <td>0.0</td>\n",
              "      <td>14.8</td>\n",
              "      <td>0.0</td>\n",
              "      <td>44.0</td>\n",
              "      <td>10.0</td>\n",
              "      <td>0.0</td>\n",
              "      <td>0.0</td>\n",
              "      <td>1009.3</td>\n",
              "      <td>1</td>\n",
              "    </tr>\n",
              "    <tr>\n",
              "      <th>1</th>\n",
              "      <td>01:00:00</td>\n",
              "      <td>24.8</td>\n",
              "      <td>95.42</td>\n",
              "      <td>0.0</td>\n",
              "      <td>15.8</td>\n",
              "      <td>3.6</td>\n",
              "      <td>44.0</td>\n",
              "      <td>10.0</td>\n",
              "      <td>0.0</td>\n",
              "      <td>0.0</td>\n",
              "      <td>1008.4</td>\n",
              "      <td>1</td>\n",
              "    </tr>\n",
              "    <tr>\n",
              "      <th>2</th>\n",
              "      <td>02:00:00</td>\n",
              "      <td>24.8</td>\n",
              "      <td>95.42</td>\n",
              "      <td>0.0</td>\n",
              "      <td>16.6</td>\n",
              "      <td>0.8</td>\n",
              "      <td>44.0</td>\n",
              "      <td>10.0</td>\n",
              "      <td>0.0</td>\n",
              "      <td>0.0</td>\n",
              "      <td>1008.2</td>\n",
              "      <td>1</td>\n",
              "    </tr>\n",
              "    <tr>\n",
              "      <th>3</th>\n",
              "      <td>04:00:00</td>\n",
              "      <td>24.7</td>\n",
              "      <td>95.73</td>\n",
              "      <td>0.0</td>\n",
              "      <td>18.7</td>\n",
              "      <td>3.6</td>\n",
              "      <td>44.0</td>\n",
              "      <td>10.0</td>\n",
              "      <td>0.0</td>\n",
              "      <td>0.0</td>\n",
              "      <td>1007.3</td>\n",
              "      <td>1</td>\n",
              "    </tr>\n",
              "    <tr>\n",
              "      <th>4</th>\n",
              "      <td>05:00:00</td>\n",
              "      <td>24.6</td>\n",
              "      <td>95.10</td>\n",
              "      <td>0.0</td>\n",
              "      <td>20.9</td>\n",
              "      <td>3.6</td>\n",
              "      <td>44.0</td>\n",
              "      <td>10.0</td>\n",
              "      <td>0.0</td>\n",
              "      <td>0.0</td>\n",
              "      <td>1007.7</td>\n",
              "      <td>1</td>\n",
              "    </tr>\n",
              "  </tbody>\n",
              "</table>\n",
              "</div>\n",
              "    <div class=\"colab-df-buttons\">\n",
              "\n",
              "  <div class=\"colab-df-container\">\n",
              "    <button class=\"colab-df-convert\" onclick=\"convertToInteractive('df-06b7cbe8-5fff-4512-a015-c503de1a5453')\"\n",
              "            title=\"Convert this dataframe to an interactive table.\"\n",
              "            style=\"display:none;\">\n",
              "\n",
              "  <svg xmlns=\"http://www.w3.org/2000/svg\" height=\"24px\" viewBox=\"0 -960 960 960\">\n",
              "    <path d=\"M120-120v-720h720v720H120Zm60-500h600v-160H180v160Zm220 220h160v-160H400v160Zm0 220h160v-160H400v160ZM180-400h160v-160H180v160Zm440 0h160v-160H620v160ZM180-180h160v-160H180v160Zm440 0h160v-160H620v160Z\"/>\n",
              "  </svg>\n",
              "    </button>\n",
              "\n",
              "  <style>\n",
              "    .colab-df-container {\n",
              "      display:flex;\n",
              "      gap: 12px;\n",
              "    }\n",
              "\n",
              "    .colab-df-convert {\n",
              "      background-color: #E8F0FE;\n",
              "      border: none;\n",
              "      border-radius: 50%;\n",
              "      cursor: pointer;\n",
              "      display: none;\n",
              "      fill: #1967D2;\n",
              "      height: 32px;\n",
              "      padding: 0 0 0 0;\n",
              "      width: 32px;\n",
              "    }\n",
              "\n",
              "    .colab-df-convert:hover {\n",
              "      background-color: #E2EBFA;\n",
              "      box-shadow: 0px 1px 2px rgba(60, 64, 67, 0.3), 0px 1px 3px 1px rgba(60, 64, 67, 0.15);\n",
              "      fill: #174EA6;\n",
              "    }\n",
              "\n",
              "    .colab-df-buttons div {\n",
              "      margin-bottom: 4px;\n",
              "    }\n",
              "\n",
              "    [theme=dark] .colab-df-convert {\n",
              "      background-color: #3B4455;\n",
              "      fill: #D2E3FC;\n",
              "    }\n",
              "\n",
              "    [theme=dark] .colab-df-convert:hover {\n",
              "      background-color: #434B5C;\n",
              "      box-shadow: 0px 1px 3px 1px rgba(0, 0, 0, 0.15);\n",
              "      filter: drop-shadow(0px 1px 2px rgba(0, 0, 0, 0.3));\n",
              "      fill: #FFFFFF;\n",
              "    }\n",
              "  </style>\n",
              "\n",
              "    <script>\n",
              "      const buttonEl =\n",
              "        document.querySelector('#df-06b7cbe8-5fff-4512-a015-c503de1a5453 button.colab-df-convert');\n",
              "      buttonEl.style.display =\n",
              "        google.colab.kernel.accessAllowed ? 'block' : 'none';\n",
              "\n",
              "      async function convertToInteractive(key) {\n",
              "        const element = document.querySelector('#df-06b7cbe8-5fff-4512-a015-c503de1a5453');\n",
              "        const dataTable =\n",
              "          await google.colab.kernel.invokeFunction('convertToInteractive',\n",
              "                                                    [key], {});\n",
              "        if (!dataTable) return;\n",
              "\n",
              "        const docLinkHtml = 'Like what you see? Visit the ' +\n",
              "          '<a target=\"_blank\" href=https://colab.research.google.com/notebooks/data_table.ipynb>data table notebook</a>'\n",
              "          + ' to learn more about interactive tables.';\n",
              "        element.innerHTML = '';\n",
              "        dataTable['output_type'] = 'display_data';\n",
              "        await google.colab.output.renderOutput(dataTable, element);\n",
              "        const docLink = document.createElement('div');\n",
              "        docLink.innerHTML = docLinkHtml;\n",
              "        element.appendChild(docLink);\n",
              "      }\n",
              "    </script>\n",
              "  </div>\n",
              "\n",
              "\n",
              "    <div id=\"df-df687737-899b-48c6-a952-0fa8c1a290b1\">\n",
              "      <button class=\"colab-df-quickchart\" onclick=\"quickchart('df-df687737-899b-48c6-a952-0fa8c1a290b1')\"\n",
              "                title=\"Suggest charts\"\n",
              "                style=\"display:none;\">\n",
              "\n",
              "<svg xmlns=\"http://www.w3.org/2000/svg\" height=\"24px\"viewBox=\"0 0 24 24\"\n",
              "     width=\"24px\">\n",
              "    <g>\n",
              "        <path d=\"M19 3H5c-1.1 0-2 .9-2 2v14c0 1.1.9 2 2 2h14c1.1 0 2-.9 2-2V5c0-1.1-.9-2-2-2zM9 17H7v-7h2v7zm4 0h-2V7h2v10zm4 0h-2v-4h2v4z\"/>\n",
              "    </g>\n",
              "</svg>\n",
              "      </button>\n",
              "\n",
              "<style>\n",
              "  .colab-df-quickchart {\n",
              "      --bg-color: #E8F0FE;\n",
              "      --fill-color: #1967D2;\n",
              "      --hover-bg-color: #E2EBFA;\n",
              "      --hover-fill-color: #174EA6;\n",
              "      --disabled-fill-color: #AAA;\n",
              "      --disabled-bg-color: #DDD;\n",
              "  }\n",
              "\n",
              "  [theme=dark] .colab-df-quickchart {\n",
              "      --bg-color: #3B4455;\n",
              "      --fill-color: #D2E3FC;\n",
              "      --hover-bg-color: #434B5C;\n",
              "      --hover-fill-color: #FFFFFF;\n",
              "      --disabled-bg-color: #3B4455;\n",
              "      --disabled-fill-color: #666;\n",
              "  }\n",
              "\n",
              "  .colab-df-quickchart {\n",
              "    background-color: var(--bg-color);\n",
              "    border: none;\n",
              "    border-radius: 50%;\n",
              "    cursor: pointer;\n",
              "    display: none;\n",
              "    fill: var(--fill-color);\n",
              "    height: 32px;\n",
              "    padding: 0;\n",
              "    width: 32px;\n",
              "  }\n",
              "\n",
              "  .colab-df-quickchart:hover {\n",
              "    background-color: var(--hover-bg-color);\n",
              "    box-shadow: 0 1px 2px rgba(60, 64, 67, 0.3), 0 1px 3px 1px rgba(60, 64, 67, 0.15);\n",
              "    fill: var(--button-hover-fill-color);\n",
              "  }\n",
              "\n",
              "  .colab-df-quickchart-complete:disabled,\n",
              "  .colab-df-quickchart-complete:disabled:hover {\n",
              "    background-color: var(--disabled-bg-color);\n",
              "    fill: var(--disabled-fill-color);\n",
              "    box-shadow: none;\n",
              "  }\n",
              "\n",
              "  .colab-df-spinner {\n",
              "    border: 2px solid var(--fill-color);\n",
              "    border-color: transparent;\n",
              "    border-bottom-color: var(--fill-color);\n",
              "    animation:\n",
              "      spin 1s steps(1) infinite;\n",
              "  }\n",
              "\n",
              "  @keyframes spin {\n",
              "    0% {\n",
              "      border-color: transparent;\n",
              "      border-bottom-color: var(--fill-color);\n",
              "      border-left-color: var(--fill-color);\n",
              "    }\n",
              "    20% {\n",
              "      border-color: transparent;\n",
              "      border-left-color: var(--fill-color);\n",
              "      border-top-color: var(--fill-color);\n",
              "    }\n",
              "    30% {\n",
              "      border-color: transparent;\n",
              "      border-left-color: var(--fill-color);\n",
              "      border-top-color: var(--fill-color);\n",
              "      border-right-color: var(--fill-color);\n",
              "    }\n",
              "    40% {\n",
              "      border-color: transparent;\n",
              "      border-right-color: var(--fill-color);\n",
              "      border-top-color: var(--fill-color);\n",
              "    }\n",
              "    60% {\n",
              "      border-color: transparent;\n",
              "      border-right-color: var(--fill-color);\n",
              "    }\n",
              "    80% {\n",
              "      border-color: transparent;\n",
              "      border-right-color: var(--fill-color);\n",
              "      border-bottom-color: var(--fill-color);\n",
              "    }\n",
              "    90% {\n",
              "      border-color: transparent;\n",
              "      border-bottom-color: var(--fill-color);\n",
              "    }\n",
              "  }\n",
              "</style>\n",
              "\n",
              "      <script>\n",
              "        async function quickchart(key) {\n",
              "          const quickchartButtonEl =\n",
              "            document.querySelector('#' + key + ' button');\n",
              "          quickchartButtonEl.disabled = true;  // To prevent multiple clicks.\n",
              "          quickchartButtonEl.classList.add('colab-df-spinner');\n",
              "          try {\n",
              "            const charts = await google.colab.kernel.invokeFunction(\n",
              "                'suggestCharts', [key], {});\n",
              "          } catch (error) {\n",
              "            console.error('Error during call to suggestCharts:', error);\n",
              "          }\n",
              "          quickchartButtonEl.classList.remove('colab-df-spinner');\n",
              "          quickchartButtonEl.classList.add('colab-df-quickchart-complete');\n",
              "        }\n",
              "        (() => {\n",
              "          let quickchartButtonEl =\n",
              "            document.querySelector('#df-df687737-899b-48c6-a952-0fa8c1a290b1 button');\n",
              "          quickchartButtonEl.style.display =\n",
              "            google.colab.kernel.accessAllowed ? 'block' : 'none';\n",
              "        })();\n",
              "      </script>\n",
              "    </div>\n",
              "\n",
              "    </div>\n",
              "  </div>\n"
            ],
            "application/vnd.google.colaboratory.intrinsic+json": {
              "type": "dataframe",
              "variable_name": "df",
              "summary": "{\n  \"name\": \"df\",\n  \"rows\": 4038,\n  \"fields\": [\n    {\n      \"column\": \"datetime\",\n      \"properties\": {\n        \"dtype\": \"object\",\n        \"num_unique_values\": 24,\n        \"samples\": [\n          \"09:00:00\",\n          \"20:00:00\",\n          \"00:00:00\"\n        ],\n        \"semantic_type\": \"\",\n        \"description\": \"\"\n      }\n    },\n    {\n      \"column\": \"temp\",\n      \"properties\": {\n        \"dtype\": \"number\",\n        \"std\": 2.492942773863709,\n        \"min\": 22.8,\n        \"max\": 34.1,\n        \"num_unique_values\": 111,\n        \"samples\": [\n          29.8,\n          27.1,\n          25.2\n        ],\n        \"semantic_type\": \"\",\n        \"description\": \"\"\n      }\n    },\n    {\n      \"column\": \"humidity\",\n      \"properties\": {\n        \"dtype\": \"number\",\n        \"std\": 9.689918404686072,\n        \"min\": 56.34,\n        \"max\": 100.0,\n        \"num_unique_values\": 1618,\n        \"samples\": [\n          69.36,\n          78.94,\n          81.76\n        ],\n        \"semantic_type\": \"\",\n        \"description\": \"\"\n      }\n    },\n    {\n      \"column\": \"precip\",\n      \"properties\": {\n        \"dtype\": \"number\",\n        \"std\": 1.2040349945850415,\n        \"min\": 0.0,\n        \"max\": 16.0,\n        \"num_unique_values\": 27,\n        \"samples\": [\n          0.2,\n          6.0,\n          14.0\n        ],\n        \"semantic_type\": \"\",\n        \"description\": \"\"\n      }\n    },\n    {\n      \"column\": \"windgust\",\n      \"properties\": {\n        \"dtype\": \"number\",\n        \"std\": 8.552246359479277,\n        \"min\": 5.0,\n        \"max\": 49.7,\n        \"num_unique_values\": 124,\n        \"samples\": [\n          22.3,\n          15.5,\n          24.5\n        ],\n        \"semantic_type\": \"\",\n        \"description\": \"\"\n      }\n    },\n    {\n      \"column\": \"windspeed\",\n      \"properties\": {\n        \"dtype\": \"number\",\n        \"std\": 3.103121301051025,\n        \"min\": 0.0,\n        \"max\": 17.5,\n        \"num_unique_values\": 87,\n        \"samples\": [\n          11.3,\n          0.0,\n          10.3\n        ],\n        \"semantic_type\": \"\",\n        \"description\": \"\"\n      }\n    },\n    {\n      \"column\": \"cloudcover\",\n      \"properties\": {\n        \"dtype\": \"number\",\n        \"std\": 12.079081970751428,\n        \"min\": 33.1,\n        \"max\": 100.0,\n        \"num_unique_values\": 20,\n        \"samples\": [\n          44.0,\n          40.0,\n          44.6\n        ],\n        \"semantic_type\": \"\",\n        \"description\": \"\"\n      }\n    },\n    {\n      \"column\": \"visibility\",\n      \"properties\": {\n        \"dtype\": \"number\",\n        \"std\": 0.9740227261838402,\n        \"min\": 4.6,\n        \"max\": 10.0,\n        \"num_unique_values\": 26,\n        \"samples\": [\n          6.0,\n          6.5,\n          10.0\n        ],\n        \"semantic_type\": \"\",\n        \"description\": \"\"\n      }\n    },\n    {\n      \"column\": \"uvindex\",\n      \"properties\": {\n        \"dtype\": \"number\",\n        \"std\": 2.8257081159896327,\n        \"min\": 0.0,\n        \"max\": 10.0,\n        \"num_unique_values\": 11,\n        \"samples\": [\n          5.0,\n          0.0,\n          9.0\n        ],\n        \"semantic_type\": \"\",\n        \"description\": \"\"\n      }\n    },\n    {\n      \"column\": \"solarradiation\",\n      \"properties\": {\n        \"dtype\": \"number\",\n        \"std\": 281.14362044226834,\n        \"min\": 0.0,\n        \"max\": 1017.2,\n        \"num_unique_values\": 1790,\n        \"samples\": [\n          14.4,\n          216.5,\n          35.4\n        ],\n        \"semantic_type\": \"\",\n        \"description\": \"\"\n      }\n    },\n    {\n      \"column\": \"pressure\",\n      \"properties\": {\n        \"dtype\": \"number\",\n        \"std\": 1.7890717863825896,\n        \"min\": 1003.3,\n        \"max\": 1013.6,\n        \"num_unique_values\": 95,\n        \"samples\": [\n          1003.3,\n          1008.9,\n          1003.9\n        ],\n        \"semantic_type\": \"\",\n        \"description\": \"\"\n      }\n    },\n    {\n      \"column\": \"weather\",\n      \"properties\": {\n        \"dtype\": \"number\",\n        \"std\": 0,\n        \"min\": 0,\n        \"max\": 2,\n        \"num_unique_values\": 3,\n        \"samples\": [\n          1,\n          0,\n          2\n        ],\n        \"semantic_type\": \"\",\n        \"description\": \"\"\n      }\n    }\n  ]\n}"
            }
          },
          "metadata": {},
          "execution_count": 18
        }
      ]
    },
    {
      "cell_type": "code",
      "source": [
        "train_size = int(len(df) * 0.8)\n",
        "\n",
        "train_df = df.iloc[:train_size]\n",
        "test_df = df.iloc[train_size:]\n",
        "\n",
        "X_train = train_df.drop(columns=['weather', 'datetime'])\n",
        "y_train = train_df['weather']\n",
        "\n",
        "X_test = test_df.drop(columns=['weather', 'datetime'])\n",
        "y_test = test_df['weather']"
      ],
      "metadata": {
        "id": "aw41K9pEj6xt"
      },
      "execution_count": null,
      "outputs": []
    },
    {
      "cell_type": "code",
      "source": [
        "print(\"X_train:\", X_train.shape)\n",
        "print(\"X_test:\", X_test.shape)"
      ],
      "metadata": {
        "id": "gy5_r7BCj9PS",
        "colab": {
          "base_uri": "https://localhost:8080/"
        },
        "outputId": "26f817eb-2f8b-4f7c-888b-b7db32e51d4c"
      },
      "execution_count": null,
      "outputs": [
        {
          "output_type": "stream",
          "name": "stdout",
          "text": [
            "X_train: (3230, 10)\n",
            "X_test: (808, 10)\n"
          ]
        }
      ]
    },
    {
      "cell_type": "code",
      "source": [
        "from sklearn.preprocessing import StandardScaler\n",
        "scaler = StandardScaler()\n",
        "X_train_scaled = scaler.fit_transform(X_train)\n",
        "X_test_scaled = scaler.transform(X_test)"
      ],
      "metadata": {
        "id": "bXw1qRbTkAhM"
      },
      "execution_count": null,
      "outputs": []
    },
    {
      "cell_type": "code",
      "source": [
        "X_train_final = pd.DataFrame(X_train_scaled, columns=X_train.columns, index=X_train.index)\n",
        "\n",
        "print(\"\\nX_train_final setelah scaling:\\n\", X_train_final.head())\n",
        "print(\"\\nShape X_train_final setelah scaling:\", X_train_final.shape)\n",
        "\n",
        "X_test_final = pd.DataFrame(scaler.transform(X_test), columns=X_test.columns, index=X_test.index)"
      ],
      "metadata": {
        "id": "rjnE5wvikCk_",
        "colab": {
          "base_uri": "https://localhost:8080/"
        },
        "outputId": "900b14c2-ab72-4c04-96d6-1e414f21bebc"
      },
      "execution_count": null,
      "outputs": [
        {
          "output_type": "stream",
          "name": "stdout",
          "text": [
            "\n",
            "X_train_final setelah scaling:\n",
            "        temp  humidity    precip  windgust  windspeed  cloudcover  visibility  \\\n",
            "0 -0.959076  1.097584 -0.140371 -0.842489  -2.189207   -1.807993    0.394069   \n",
            "1 -0.998282  1.066679 -0.140371 -0.725199  -1.022235   -1.807993    0.394069   \n",
            "2 -0.998282  1.066679 -0.140371 -0.631368  -1.929880   -1.807993    0.394069   \n",
            "3 -1.037487  1.097584 -0.140371 -0.385059  -1.022235   -1.807993    0.394069   \n",
            "4 -1.076693  1.034777 -0.140371 -0.127022  -1.022235   -1.807993    0.394069   \n",
            "\n",
            "    uvindex  solarradiation  pressure  \n",
            "0 -0.712872       -0.721391  0.525392  \n",
            "1 -0.712872       -0.721391  0.003590  \n",
            "2 -0.712872       -0.721391 -0.112366  \n",
            "3 -0.712872       -0.721391 -0.634168  \n",
            "4 -0.712872       -0.721391 -0.402256  \n",
            "\n",
            "Shape X_train_final setelah scaling: (3230, 10)\n"
          ]
        }
      ]
    },
    {
      "cell_type": "code",
      "source": [
        "from collections import Counter\n",
        "print(\"Distribusi kelas di y_train:\", Counter(y_train))\n",
        "print(\"Distribusi kelas di y_test:\", Counter(y_test))"
      ],
      "metadata": {
        "id": "uuAGPxc3kHvI",
        "colab": {
          "base_uri": "https://localhost:8080/"
        },
        "outputId": "e6583532-b00f-4a10-ccbc-b493deec573a"
      },
      "execution_count": null,
      "outputs": [
        {
          "output_type": "stream",
          "name": "stdout",
          "text": [
            "Distribusi kelas di y_train: Counter({0: 2594, 1: 476, 2: 160})\n",
            "Distribusi kelas di y_test: Counter({0: 664, 2: 96, 1: 48})\n"
          ]
        }
      ]
    },
    {
      "cell_type": "code",
      "source": [
        "from imblearn.under_sampling import RandomUnderSampler\n",
        "from imblearn.over_sampling import SMOTE\n",
        "from collections import Counter\n",
        "\n",
        "print(\"Distribusi sebelum resampling:\", Counter(y_train))\n",
        "\n",
        "# Step 1: undersample\n",
        "rus = RandomUnderSampler(sampling_strategy={0: 476, 1: 476, 2: 160}, random_state=42)\n",
        "X_tmp, y_tmp = rus.fit_resample(X_train_final, y_train)\n",
        "\n",
        "print(\"Setelah undersample kelas 0:\", Counter(y_tmp))\n",
        "\n",
        "# Step 2: oversample\n",
        "smote = SMOTE(sampling_strategy={2: 476}, random_state=42)\n",
        "X_balanced, y_balanced = smote.fit_resample(X_tmp, y_tmp)\n",
        "\n",
        "print(\"Distribusi akhir:\", Counter(y_balanced))\n"
      ],
      "metadata": {
        "colab": {
          "base_uri": "https://localhost:8080/"
        },
        "id": "i09g7dplS6t4",
        "outputId": "92bdb0dd-e9cc-4e53-b845-3b27847080f5"
      },
      "execution_count": null,
      "outputs": [
        {
          "output_type": "stream",
          "name": "stdout",
          "text": [
            "Distribusi sebelum resampling: Counter({0: 2594, 1: 476, 2: 160})\n",
            "Setelah undersample kelas 0: Counter({0: 476, 1: 476, 2: 160})\n",
            "Distribusi akhir: Counter({0: 476, 1: 476, 2: 476})\n"
          ]
        }
      ]
    },
    {
      "cell_type": "code",
      "source": [
        "from sklearn.svm import SVC\n",
        "from sklearn.metrics import classification_report, accuracy_score, confusion_matrix\n",
        "import matplotlib.pyplot as plt\n",
        "import seaborn as sns\n",
        "\n",
        "svm_model = SVC(kernel='rbf', random_state=42, class_weight='balanced')\n",
        "\n",
        "# 2. Latih Model\n",
        "print(\"Memulai pelatihan model SVM...\")\n",
        "svm_model.fit(X_balanced, y_balanced)\n",
        "print(\"Model SVM berhasil dilatih!\")\n",
        "\n",
        "# 3. Lakukan Prediksi pada Data Test\n",
        "print(\"Melakukan prediksi pada data pengujian...\")\n",
        "y_pred = svm_model.predict(X_test_final)\n",
        "\n",
        "# 4. Evaluasi Model\n",
        "print(\"\\n--- Hasil Evaluasi Model pada Data Pengujian ---\")\n",
        "\n",
        "# Akurasi keseluruhan\n",
        "print(f\"Akurasi Keseluruhan: {accuracy_score(y_test, y_pred):.4f}\")\n",
        "\n",
        "# Classification Report\n",
        "print(\"\\nClassification Report:\")\n",
        "print(classification_report(y_test, y_pred))\n",
        "\n",
        "# Confusion Matrix\n",
        "cm = confusion_matrix(y_test, y_pred)\n",
        "plt.figure(figsize=(8, 6))\n",
        "\n",
        "# Mendapatkan label kelas dari model\n",
        "class_labels = svm_model.classes_\n",
        "sns.heatmap(cm, annot=True, fmt='d', cmap='Blues',\n",
        "            xticklabels=class_labels, yticklabels=class_labels)\n",
        "plt.title('Confusion Matrix')\n",
        "plt.xlabel('Prediksi Kelas')\n",
        "plt.ylabel('Kelas Aktual')\n",
        "plt.show()\n"
      ],
      "metadata": {
        "colab": {
          "base_uri": "https://localhost:8080/",
          "height": 876
        },
        "id": "aGQQD2Dp8-k1",
        "outputId": "78cfe1a5-e140-4c2e-d87c-651d9fdd2e1c"
      },
      "execution_count": null,
      "outputs": [
        {
          "output_type": "stream",
          "name": "stdout",
          "text": [
            "Memulai pelatihan model SVM...\n",
            "Model SVM berhasil dilatih!\n",
            "Melakukan prediksi pada data pengujian...\n",
            "\n",
            "--- Hasil Evaluasi Model pada Data Pengujian ---\n",
            "Akurasi Keseluruhan: 0.9332\n",
            "\n",
            "Classification Report:\n",
            "              precision    recall  f1-score   support\n",
            "\n",
            "           0       0.96      0.95      0.96       664\n",
            "           1       0.74      1.00      0.85        48\n",
            "           2       0.84      0.76      0.80        96\n",
            "\n",
            "    accuracy                           0.93       808\n",
            "   macro avg       0.85      0.90      0.87       808\n",
            "weighted avg       0.94      0.93      0.93       808\n",
            "\n"
          ]
        },
        {
          "output_type": "display_data",
          "data": {
            "text/plain": [
              "<Figure size 800x600 with 2 Axes>"
            ],
            "image/png": "[encoded data removed]"
          },
          "metadata": {}
        }
      ]
    }
  ]
}